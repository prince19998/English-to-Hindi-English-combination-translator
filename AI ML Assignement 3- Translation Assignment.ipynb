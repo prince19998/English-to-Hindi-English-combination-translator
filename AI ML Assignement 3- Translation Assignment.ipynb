{
 "cells": [
  {
   "cell_type": "code",
   "execution_count": 5,
   "id": "714aaae0",
   "metadata": {},
   "outputs": [
    {
     "name": "stdout",
     "output_type": "stream",
     "text": [
      "Enter the text in English: Hello Brother How Are you today \n",
      "Hinglish Output: Hello भाई कैसे हैं आप आज\n"
     ]
    }
   ],
   "source": [
    "import random\n",
    "from googletrans import Translator\n",
    "\n",
    "def translate_to_hinglish(input_text):\n",
    "    # Split the input text into words.\n",
    "    words = input_text.split()\n",
    "\n",
    "    # Translate each word to Hindi.\n",
    "    hindi_translations = []\n",
    "    translator = Translator()\n",
    "    for word in words:\n",
    "        hindi_translation = translator.translate(word, src='en', dest='hi').text\n",
    "        hindi_translations.append(hindi_translation)\n",
    "\n",
    "    # Combine the Hindi and English translations into Hinglish.\n",
    "    hinglish_words = []\n",
    "    for i in range(len(words)):\n",
    "        if random.random() > 0.3:\n",
    "            hinglish_words.append(hindi_translations[i])\n",
    "        else:\n",
    "            hinglish_words.append(words[i])\n",
    "\n",
    "    # Shuffle the words in the Hinglish text.\n",
    "#     random.shuffle(hinglish_words)\n",
    "\n",
    "    # Join the translated words back into a text.\n",
    "    hinglish_output = ' '.join(hinglish_words)\n",
    "\n",
    "    return hinglish_output\n",
    "\n",
    "if __name__ == \"__main__\":\n",
    "    input_text = input(\"Enter the text in English: \")\n",
    "    hinglish_output = translate_to_hinglish(input_text)\n",
    "\n",
    "    print(\"Hinglish Output:\", hinglish_output)\n"
   ]
  },
  {
   "cell_type": "code",
   "execution_count": 21,
   "id": "ad498216",
   "metadata": {},
   "outputs": [
    {
     "name": "stdout",
     "output_type": "stream",
     "text": [
      "Enter the text in English: Hello Brother How Are you today\n",
      "Hinglish Output: नमस्ते भाई How Are आप today\n"
     ]
    }
   ],
   "source": [
    "import random\n",
    "from googletrans import Translator\n",
    "\n",
    "def translate_to_hinglish(input_text):\n",
    "    # Split the input text into words.\n",
    "    words = input_text.split()\n",
    "\n",
    "    # Translate each word to Hindi.\n",
    "    hindi_translations = []\n",
    "    translator = Translator()\n",
    "    for word in words:\n",
    "        hindi_translation = translator.translate(word, src='en', dest='hi').text\n",
    "        hindi_translations.append(hindi_translation)\n",
    "\n",
    "    # Combine the Hindi and English translations into Hinglish.\n",
    "    hinglish_words = []\n",
    "    for i in range(len(words)):\n",
    "        if random.random() > 0.3:\n",
    "            hinglish_words.append(hindi_translations[i])\n",
    "        else:\n",
    "            hinglish_words.append(words[i])\n",
    "\n",
    "    # Shuffle the words in the Hinglish text.\n",
    "    random.shuffle(hinglish_words)\n",
    "\n",
    "    # Join the translated words back into a text.\n",
    "    hinglish_output = ' '.join(hinglish_words)\n",
    "\n",
    "    return hinglish_output\n",
    "\n",
    "if __name__ == \"__main__\":\n",
    "    input_text = input(\"Enter the text in English: \")\n",
    "    hinglish_output = translate_to_hinglish(input_text)\n",
    "\n",
    "    print(\"Hinglish Output:\", hinglish_output)\n"
   ]
  },
  {
   "cell_type": "code",
   "execution_count": 31,
   "id": "e9f22ee1",
   "metadata": {},
   "outputs": [
    {
     "name": "stdout",
     "output_type": "stream",
     "text": [
      "Enter the text in English: I only got a 30 minute demo to use this new headset.\n",
      "Hinglish Output: मैं केवल got ए 30 minute डेमो to उपयोग यह नया हेडसेट।\n"
     ]
    }
   ],
   "source": [
    "import random\n",
    "from googletrans import Translator\n",
    "\n",
    "def translate_to_hinglish(input_text):\n",
    "    # Split the input text into words.\n",
    "    words = input_text.split()\n",
    "\n",
    "    # Translate each word to Hindi.\n",
    "    hindi_translations = []\n",
    "    translator = Translator()\n",
    "    for word in words:\n",
    "        hindi_translation = translator.translate(word, src='en', dest='hi').text\n",
    "        hindi_translations.append(hindi_translation)\n",
    "\n",
    "    # Combine the Hindi and English translations into Hinglish.\n",
    "    hinglish_words = []\n",
    "    for i in range(len(words)):\n",
    "        if random.random() > 0.5:\n",
    "            hinglish_words.append(hindi_translations[i])\n",
    "        else:\n",
    "            hinglish_words.append(words[i])\n",
    "\n",
    "    # Shuffle the words in the Hinglish text.\n",
    "#     random.shuffle(hinglish_words)\n",
    "\n",
    "    # Join the translated words back into a text.\n",
    "    hinglish_output = ' '.join(hinglish_words)\n",
    "\n",
    "    return hinglish_output\n",
    "\n",
    "if __name__ == \"__main__\":\n",
    "    input_text = input(\"Enter the text in English: \")\n",
    "    hinglish_output = translate_to_hinglish(input_text)\n",
    "\n",
    "    print(\"Hinglish Output:\", hinglish_output)\n"
   ]
  },
  {
   "cell_type": "code",
   "execution_count": 32,
   "id": "a104324e",
   "metadata": {},
   "outputs": [
    {
     "name": "stdout",
     "output_type": "stream",
     "text": [
      "Enter the text in English: I only got a 30 minute demo to use this new headset\n",
      "Hinglish Output: I केवल प्राप्त a 30 minute demo to उपयोग यह new हेडसेट\n"
     ]
    }
   ],
   "source": [
    "import random\n",
    "from googletrans import Translator\n",
    "\n",
    "def translate_to_hinglish(input_text):\n",
    "    # Split the input text into words.\n",
    "    words = input_text.split()\n",
    "\n",
    "    # Translate each word to Hindi.\n",
    "    hindi_translations = []\n",
    "    translator = Translator()\n",
    "    for word in words:\n",
    "        hindi_translation = translator.translate(word, src='en', dest='hi').text\n",
    "        hindi_translations.append(hindi_translation)\n",
    "\n",
    "    # Combine the Hindi and English translations into Hinglish.\n",
    "    hinglish_words = []\n",
    "    for i in range(len(words)):\n",
    "        if random.random() > 0.5:\n",
    "            hinglish_words.append(hindi_translations[i])\n",
    "        else:\n",
    "            hinglish_words.append(words[i])\n",
    "\n",
    "    # Shuffle the words in the Hinglish text.\n",
    "#     random.shuffle(hinglish_words)\n",
    "\n",
    "    # Join the translated words back into a text.\n",
    "    hinglish_output = ' '.join(hinglish_words)\n",
    "\n",
    "    return hinglish_output\n",
    "\n",
    "if __name__ == \"__main__\":\n",
    "    input_text = input(\"Enter the text in English: \")\n",
    "    hinglish_output = translate_to_hinglish(input_text)\n",
    "\n",
    "    print(\"Hinglish Output:\", hinglish_output)\n"
   ]
  },
  {
   "cell_type": "code",
   "execution_count": null,
   "id": "ba396c02",
   "metadata": {},
   "outputs": [],
   "source": [
    "\"\"\"i can print same code with differnt shuffle  and different random parameter for output\n",
    "list of all different parameter output you can also try it\"\"\" "
   ]
  }
 ],
 "metadata": {
  "kernelspec": {
   "display_name": "Python 3 (ipykernel)",
   "language": "python",
   "name": "python3"
  },
  "language_info": {
   "codemirror_mode": {
    "name": "ipython",
    "version": 3
   },
   "file_extension": ".py",
   "mimetype": "text/x-python",
   "name": "python",
   "nbconvert_exporter": "python",
   "pygments_lexer": "ipython3",
   "version": "3.9.13"
  }
 },
 "nbformat": 4,
 "nbformat_minor": 5
}
